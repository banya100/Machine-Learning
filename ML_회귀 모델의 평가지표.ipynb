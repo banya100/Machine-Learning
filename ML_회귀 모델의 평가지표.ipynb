{
 "cells": [
  {
   "cell_type": "markdown",
   "metadata": {},
   "source": [
    "### 회귀 모델의 평가지표\n",
    "* 실제값과 예측값의 차이 값을 기반으로 한 지표가 중심이다.\n",
    "* 실제값과 예측값의 차이를그냥 더하면 잔차의 합은 0이 되므로 지표로 쓸 수 없다.\n",
    "* 이 때문에 잔차의 절대값 평균이나 제곱, 또는 제곱한 뒤 다시 루트를 씌운 평균값 등을 성능 지표로 사용한다.\n",
    "* MAE, MSE, RMSE, MSLE, RMSLE : 작을 수록 성능 좋은 것(예측값과 실제값의 차이가 작다는 뜻이므로)\n",
    "* R² : 클 수록 성능이 좋다."
   ]
  },
  {
   "cell_type": "markdown",
   "metadata": {},
   "source": [
    "#### MAE(Mean Absolue Error) \n",
    "* 실제 값과 예측 값의차이를 절댓값으로 변환해 평균낸 것\n",
    "\n",
    " <img src=\"image/MAE.png\">"
   ]
  },
  {
   "cell_type": "markdown",
   "metadata": {},
   "source": [
    "#### MSE(Mean Squared Error) \n",
    "* 실제 값과 예측 값의차이를 제곱해 평균낸 것\n",
    "* MSE는 오류의 제곱을 구하므로 실제 오류 평균보다 커지는 특성이있다.\n",
    "\n",
    " <img src=\"image/MSE.png\">"
   ]
  },
  {
   "cell_type": "markdown",
   "metadata": {},
   "source": [
    "#### RMSE (Root Mean Squared Error)\n",
    "* MSE에 루트를 씌운 것\n",
    "\n",
    "<img src=\"image/RMSE.png\">"
   ]
  },
  {
   "cell_type": "markdown",
   "metadata": {},
   "source": [
    "#### MSLE (Mean Squared Log Error)\n",
    "* MSE에 log를 적용한것\n",
    "* log(y)가 아니라 log(y+1)\n",
    "* y=0일 때, log(y)는 마이너스 무한대이므로 이를 보정하기위해 +1\n",
    "\n",
    "<img src = \"image/MSLE.png\">"
   ]
  },
  {
   "cell_type": "markdown",
   "metadata": {},
   "source": [
    "#### RMSLE (Root Mean Squared Log Error)\n",
    "* MSLE에 루트를 씌운 것\n",
    "\n",
    "<img src = \"image/RMSLE.jpg\">"
   ]
  },
  {
   "cell_type": "markdown",
   "metadata": {},
   "source": [
    "#### RMSE와 비교해서  RMSLE가 가진 장점\n",
    "* 아웃라이어에 영향을 덜 받는다\n",
    "    * RMSLE는 아웃라이어가 있더라도 값의 변동폭이 크지않다.\n",
    "* 상대적 Error를 측정해준다.\n",
    "    * 예측값과 실제값에 로그를 취해주면 (뺄셈 --> 나눗셈)\n",
    "    * 상대적 비율을 구할 수 있다.\n",
    "    * 값의 절대적 크기가 변하더라도 상대적 크기가 동일하다면 RMSLE값도 동일하다.\n",
    "* Under Estimation에 큰 패널티를 부여한다.\n",
    "    * RMLSE는 Over Estimation 보다 Under Estimation에 더 큰패널티 부여\n",
    "    * 예측값이 실제값보다 클 때보다 작을 때 더 큰 패널티를 부여한다.\n",
    "    * 배달음식 시킬때 30분이 걸린다고 했는데 40분이 걸리면 고객이 화가 날 수 있다. 이럴 때 RMSLE를 적용할 수 있다."
   ]
  },
  {
   "cell_type": "markdown",
   "metadata": {},
   "source": [
    "#### R²  (R Square)\n",
    "* R² : 분산 기반으로 예측 성능을 평가\n",
    "* R²은 1에 가까울수록 예측 정확도가 높다\n",
    "* R²= 예측값의 분산 / 실제값의 분산"
   ]
  },
  {
   "cell_type": "code",
   "execution_count": 18,
   "metadata": {},
   "outputs": [],
   "source": [
    "import numpy as np\n",
    "from sklearn.metrics import mean_squared_error, r2_score,mean_absolute_error, mean_squared_log_error"
   ]
  },
  {
   "cell_type": "code",
   "execution_count": 19,
   "metadata": {},
   "outputs": [],
   "source": [
    "origin = np.array([1,2,3,2,3,5,4,6,5,6,7])\n",
    "pred = np.array([1,1,2,2,3,4,4,5,5,7,7])"
   ]
  },
  {
   "cell_type": "code",
   "execution_count": 20,
   "metadata": {},
   "outputs": [
    {
     "data": {
      "text/plain": [
       "0.45454545454545453"
      ]
     },
     "execution_count": 20,
     "metadata": {},
     "output_type": "execute_result"
    }
   ],
   "source": [
    "MAE = mean_absolute_error(origin, pred)\n",
    "MAE"
   ]
  },
  {
   "cell_type": "code",
   "execution_count": 21,
   "metadata": {},
   "outputs": [
    {
     "data": {
      "text/plain": [
       "0.45454545454545453"
      ]
     },
     "execution_count": 21,
     "metadata": {},
     "output_type": "execute_result"
    }
   ],
   "source": [
    "MSE = mean_squared_error(origin, pred)\n",
    "MSE"
   ]
  },
  {
   "cell_type": "code",
   "execution_count": 22,
   "metadata": {},
   "outputs": [
    {
     "data": {
      "text/plain": [
       "0.674199862463242"
      ]
     },
     "execution_count": 22,
     "metadata": {},
     "output_type": "execute_result"
    }
   ],
   "source": [
    "RMSE = np.sqrt(MSE)\n",
    "RMSE"
   ]
  },
  {
   "cell_type": "code",
   "execution_count": 23,
   "metadata": {},
   "outputs": [
    {
     "data": {
      "text/plain": [
       "0.029272467607503516"
      ]
     },
     "execution_count": 23,
     "metadata": {},
     "output_type": "execute_result"
    }
   ],
   "source": [
    "MSLE = mean_squared_log_error(origin, pred)\n",
    "MSLE"
   ]
  },
  {
   "cell_type": "code",
   "execution_count": 24,
   "metadata": {},
   "outputs": [
    {
     "data": {
      "text/plain": [
       "0.1710919858073531"
      ]
     },
     "execution_count": 24,
     "metadata": {},
     "output_type": "execute_result"
    }
   ],
   "source": [
    "RMSLE = np.sqrt(MSLE)\n",
    "RMSLE"
   ]
  },
  {
   "cell_type": "code",
   "execution_count": 25,
   "metadata": {},
   "outputs": [
    {
     "data": {
      "text/plain": [
       "0.868421052631579"
      ]
     },
     "execution_count": 25,
     "metadata": {},
     "output_type": "execute_result"
    }
   ],
   "source": [
    "R2 = r2_score(origin, pred)\n",
    "R2"
   ]
  },
  {
   "cell_type": "markdown",
   "metadata": {},
   "source": [
    "#### Referance\n",
    "* Referance1 : https://heung-bae-lee.github.io/\n",
    "* Referance2 : https://bkshin.tistory.com/"
   ]
  }
 ],
 "metadata": {
  "kernelspec": {
   "display_name": "Python 3",
   "language": "python",
   "name": "python3"
  },
  "language_info": {
   "codemirror_mode": {
    "name": "ipython",
    "version": 3
   },
   "file_extension": ".py",
   "mimetype": "text/x-python",
   "name": "python",
   "nbconvert_exporter": "python",
   "pygments_lexer": "ipython3",
   "version": "3.7.1"
  }
 },
 "nbformat": 4,
 "nbformat_minor": 2
}
